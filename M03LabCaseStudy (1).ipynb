{
 "cells": [
  {
   "cell_type": "code",
   "execution_count": 1,
   "id": "fa97dabf",
   "metadata": {},
   "outputs": [
    {
     "name": "stdout",
     "output_type": "stream",
     "text": [
      "Enter the year: 2006\n",
      "Enter the make: honda\n",
      "Enter the model: s2000\n",
      "Enter the number of doors (2 or 4): 2\n",
      "Enter the type of roof (solid or sun roof): sun roof\n",
      "\n",
      "Vehicle Details:\n",
      "Vehicle type: car\n",
      "Year: 2006\n",
      "Make: honda\n",
      "Model: s2000\n",
      "Number of doors: 2\n",
      "Type of roof: sun roof\n"
     ]
    }
   ],
   "source": [
    "#Nooreddin Hellalat\n",
    "#M03LabCaseStudy\n",
    "#Ask the user for to input info about a car specifically the year, make, model, doors, and type of roof. Store that \n",
    "#data and print it out\n",
    "#Vehicle is the super class variable and within it is self.vehicle.type. Automobile is the subclass and within it is \n",
    "#self.year,make,model,doors, and roof. Outside of these classes is car which is used to represent a specific vehicle.\n",
    "class Vehicle:\n",
    "    def __init__(self):\n",
    "        self.vehicle_type = \"\"\n",
    "\n",
    "    def set_vehicle_type(self, v_type):\n",
    "        self.vehicle_type = v_type\n",
    "\n",
    "class Automobile(Vehicle):\n",
    "    def __init__(self):\n",
    "        super().__init__()\n",
    "        self.year = \"\"\n",
    "        self.make = \"\"\n",
    "        self.model = \"\"\n",
    "        self.doors = \"\"\n",
    "        self.roof = \"\"\n",
    "\n",
    "    def input_data(self):\n",
    "        self.set_vehicle_type(\"car\")\n",
    "        self.year = input(\"Enter the year: \")\n",
    "        self.make = input(\"Enter the make: \")\n",
    "        self.model = input(\"Enter the model: \")\n",
    "        self.doors = input(\"Enter the number of doors (2 or 4): \")\n",
    "        self.roof = input(\"Enter the type of roof (solid or sun roof): \")\n",
    "\n",
    "    def display_data(self):\n",
    "        print(\"Vehicle type:\", self.vehicle_type)\n",
    "        print(\"Year:\", self.year)\n",
    "        print(\"Make:\", self.make)\n",
    "        print(\"Model:\", self.model)\n",
    "        print(\"Number of doors:\", self.doors)\n",
    "        print(\"Type of roof:\", self.roof)\n",
    "\n",
    "car = Automobile()\n",
    "\n",
    "car.input_data()\n",
    "\n",
    "print(\"\\nVehicle Details:\")\n",
    "car.display_data()\n",
    "\n"
   ]
  },
  {
   "cell_type": "code",
   "execution_count": null,
   "id": "9e494963",
   "metadata": {},
   "outputs": [],
   "source": []
  }
 ],
 "metadata": {
  "kernelspec": {
   "display_name": "Python 3 (ipykernel)",
   "language": "python",
   "name": "python3"
  },
  "language_info": {
   "codemirror_mode": {
    "name": "ipython",
    "version": 3
   },
   "file_extension": ".py",
   "mimetype": "text/x-python",
   "name": "python",
   "nbconvert_exporter": "python",
   "pygments_lexer": "ipython3",
   "version": "3.11.4"
  }
 },
 "nbformat": 4,
 "nbformat_minor": 5
}
